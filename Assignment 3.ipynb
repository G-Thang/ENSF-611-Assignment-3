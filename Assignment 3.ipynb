{
 "cells": [
  {
   "cell_type": "markdown",
   "id": "92778525",
   "metadata": {},
   "source": [
    "# Assignment 3: Non-Linear Models and Validation Metrics (37 total marks)\n",
    "### Due: October 24 at 11:59pm\n",
    "\n",
    "### Name: Gi-E Thang"
   ]
  },
  {
   "cell_type": "markdown",
   "id": "ce31b39a",
   "metadata": {},
   "source": [
    "### In this assignment, you will need to write code that uses non-linear models to perform classification and regression tasks. You will also be asked to describe the process by which you came up with the code. More details can be found below. Please cite any websites or AI tools that you used to help you with this assignment."
   ]
  },
  {
   "cell_type": "markdown",
   "id": "cf275ca7",
   "metadata": {},
   "source": [
    "### Import Libraries"
   ]
  },
  {
   "cell_type": "code",
   "execution_count": 2,
   "id": "2b67a661",
   "metadata": {},
   "outputs": [],
   "source": [
    "import numpy as np\n",
    "import pandas as pd\n",
    "import matplotlib.pyplot as plt\n",
    "import seaborn as sns"
   ]
  },
  {
   "cell_type": "markdown",
   "id": "5ee2d2c3",
   "metadata": {},
   "source": [
    "## Part 1: Regression (14.5 marks)\n",
    "\n",
    "For this section, we will be continuing with the concrete example from yellowbrick. You will need to compare these results to the results from the previous assignment. Please use the results from the solution if you were unable to complete Assignment 2"
   ]
  },
  {
   "cell_type": "markdown",
   "id": "8219f163",
   "metadata": {},
   "source": [
    "### Step 1: Data Input (0.5 marks)\n",
    "\n",
    "The data used for this task can be downloaded using the yellowbrick library: \n",
    "https://www.scikit-yb.org/en/latest/api/datasets/concrete.html\n",
    "\n",
    "Use the yellowbrick function `load_concrete()` to load the concrete dataset into the feature matrix `X` and target vector `y`."
   ]
  },
  {
   "cell_type": "code",
   "execution_count": 3,
   "id": "2af8bd32",
   "metadata": {},
   "outputs": [],
   "source": [
    "# TO DO: Import concrete dataset from yellowbrick library\n",
    "from yellowbrick.datasets import load_concrete\n",
    "\n",
    "X, y = load_concrete()\n",
    "\n"
   ]
  },
  {
   "cell_type": "markdown",
   "id": "42fea4cc",
   "metadata": {},
   "source": [
    "### Step 2: Data Processing (0 marks)\n",
    "\n",
    "Data processing was completed in the previous assignment. No need to repeat here."
   ]
  },
  {
   "cell_type": "markdown",
   "id": "2a245d00",
   "metadata": {},
   "source": [
    "### Step 3: Implement Machine Learning Model\n",
    "\n",
    "1. Import the Decision Tree, Random Forest and Gradient Boosting Machines regression models from sklearn\n",
    "2. Instantiate the three models with `max_depth = 5`. Are there any other parameters that you will need to set?\n",
    "3. Implement each machine learning model with `X` and `y`"
   ]
  },
  {
   "cell_type": "markdown",
   "id": "3f994e31",
   "metadata": {},
   "source": [
    "### Step 4: Validate Model\n",
    "\n",
    "Calculate the average training and validation accuracy using mean squared error with cross-validation. To do this, you will need to set `scoring='neg_mean_squared_error'` in your `cross_validate` function and negate the results (multiply by -1)"
   ]
  },
  {
   "cell_type": "markdown",
   "id": "5fc3f7a8",
   "metadata": {},
   "source": [
    "### Step 5: Visualize Results (4 marks)\n",
    "\n",
    "1. Create a pandas DataFrame `results` with columns: Training accuracy and Validation accuracy, and index: DT, RF and GB\n",
    "2. Add the accuracy results to the `results` DataFrame\n",
    "3. Print `results`"
   ]
  },
  {
   "cell_type": "code",
   "execution_count": 4,
   "id": "fdc93a78",
   "metadata": {},
   "outputs": [
    {
     "name": "stdout",
     "output_type": "stream",
     "text": [
      "    Training Accuracy  Validation Accuracy\n",
      "DT          47.918561           163.087775\n",
      "RF          32.056464           156.251425\n",
      "GB           3.739270            99.224576\n"
     ]
    }
   ],
   "source": [
    "from sklearn.tree import DecisionTreeRegressor\n",
    "from sklearn.ensemble import RandomForestRegressor, GradientBoostingRegressor\n",
    "\n",
    "# Instantiate the models\n",
    "decision_tree = DecisionTreeRegressor(max_depth=5, random_state=0)\n",
    "random_forest = RandomForestRegressor(max_depth=5, random_state=0)\n",
    "gradient_boosting = GradientBoostingRegressor(max_depth=5, random_state=0)\n",
    "\n",
    "# Fit the models with the data\n",
    "decision_tree.fit(X, y)\n",
    "random_forest.fit(X, y)\n",
    "gradient_boosting.fit(X, y)\n",
    "\n",
    "from sklearn.model_selection import cross_validate\n",
    "\n",
    "# Perform cross-validation for each model\n",
    "dt_scores = cross_validate(decision_tree, X, y, scoring='neg_mean_squared_error', cv=5, return_train_score=True)\n",
    "rf_scores = cross_validate(random_forest, X, y, scoring='neg_mean_squared_error', cv=5, return_train_score=True)\n",
    "gb_scores = cross_validate(gradient_boosting, X, y, scoring='neg_mean_squared_error', cv=5, return_train_score=True)\n",
    "\n",
    "# Calculate the average training and validation accuracy\n",
    "dt_avg_train_mse = -np.mean(dt_scores['train_score'])\n",
    "dt_avg_val_mse = -np.mean(dt_scores['test_score'])\n",
    "rf_avg_train_mse = -np.mean(rf_scores['train_score'])\n",
    "rf_avg_val_mse = -np.mean(rf_scores['test_score'])\n",
    "gb_avg_train_mse = -np.mean(gb_scores['train_score'])\n",
    "gb_avg_val_mse = -np.mean(gb_scores['test_score'])\n",
    "\n",
    "# Create a pandas DataFrame for results\n",
    "results = pd.DataFrame({\n",
    "    'Training Accuracy': [dt_avg_train_mse, rf_avg_train_mse, gb_avg_train_mse],\n",
    "    'Validation Accuracy': [dt_avg_val_mse, rf_avg_val_mse, gb_avg_val_mse]\n",
    "}, index=['DT', 'RF', 'GB'])\n",
    "\n",
    "# Print the results\n",
    "print(results)\n"
   ]
  },
  {
   "cell_type": "markdown",
   "id": "31715a9d",
   "metadata": {},
   "source": [
    "Repeat the step above to print the R2 score instead of the mean-squared error. For this case, you can use `scoring='r2'`"
   ]
  },
  {
   "cell_type": "code",
   "execution_count": 5,
   "id": "83539f47",
   "metadata": {},
   "outputs": [
    {
     "name": "stdout",
     "output_type": "stream",
     "text": [
      "    Training R2 Score  Validation R2 Score\n",
      "DT           0.822887             0.176210\n",
      "RF           0.881218             0.174781\n",
      "GB           0.986436             0.474425\n"
     ]
    }
   ],
   "source": [
    "from sklearn.metrics import make_scorer, r2_score\n",
    "\n",
    "# Create a custom scorer for R2 score since it's not available directly in cross_validate\n",
    "r2_scorer = make_scorer(r2_score)\n",
    "\n",
    "# Perform cross-validation for each model with R2 score\n",
    "dt_scores = cross_validate(decision_tree, X, y, scoring=r2_scorer, cv=5, return_train_score=True)\n",
    "rf_scores = cross_validate(random_forest, X, y, scoring=r2_scorer, cv=5, return_train_score=True)\n",
    "gb_scores = cross_validate(gradient_boosting, X, y, scoring=r2_scorer, cv=5, return_train_score=True)\n",
    "\n",
    "# Calculate the average training and validation R2 score\n",
    "dt_avg_train_r2 = np.mean(dt_scores['train_score'])\n",
    "dt_avg_val_r2 = np.mean(dt_scores['test_score'])\n",
    "rf_avg_train_r2 = np.mean(rf_scores['train_score'])\n",
    "rf_avg_val_r2 = np.mean(rf_scores['test_score'])\n",
    "gb_avg_train_r2 = np.mean(gb_scores['train_score'])\n",
    "gb_avg_val_r2 = np.mean(gb_scores['test_score'])\n",
    "\n",
    "# Create a pandas DataFrame for results with R2 score\n",
    "results_r2 = pd.DataFrame({\n",
    "    'Training R2 Score': [dt_avg_train_r2, rf_avg_train_r2, gb_avg_train_r2],\n",
    "    'Validation R2 Score': [dt_avg_val_r2, rf_avg_val_r2, gb_avg_val_r2]\n",
    "}, index=['DT', 'RF', 'GB'])\n",
    "\n",
    "# Print the results with R2 score\n",
    "print(results_r2)\n"
   ]
  },
  {
   "cell_type": "markdown",
   "id": "a5257a98",
   "metadata": {},
   "source": [
    "### Questions (6 marks)\n",
    "1. How do these results compare to the results using a linear model in the previous assignment? Use values.\n",
    "1. Out of the models you tested, which model would you select for this dataset and why?\n",
    "1. If you wanted to increase the accuracy of the tree-based models, what would you do? Provide two suggestions.\n",
    "\n",
    "*ANSWER HERE*\n",
    "\n",
    "1.\n",
    "Results from Previous Assignment (Linear Models):\n",
    "\n",
    "Alpha = 0.001: Validation R2 score = 0.62\n",
    "Alpha = 0.01: Validation R2 score = 0.62\n",
    "Alpha = 0.1: Validation R2 score = 0.62\n",
    "Alpha = 1: Validation R2 score = 0.62\n",
    "Alpha = 10: Validation R2 score = 0.62\n",
    "\n",
    "Results from Current Assignment (Tree-Based Models):\n",
    "\n",
    "Decision Tree:\n",
    "Validation R2 score: 0.176210\n",
    "Random Forest:\n",
    "Validation R2 score: 0.174781\n",
    "Gradient Boosting:\n",
    "Validation R2 score: 0.474425\n",
    "The R2 scores for the tree-based models in the current assignment are significantly lower than the validation R2 scores for the linear models in the previous assignment. This indicates that, in terms of R2 score, the linear models performed better on the validation dataset.\n",
    "\n",
    "2.\n",
    "\n",
    "In the context of the \"Concrete\" dataset and considering the nature of concrete compressive strength prediction, I will consider using Random Forest. It offers a balance between interpretability and predictive accuracy, which is often desirable in practical applications. If the dataset is particularly complex and you need even higher accuracy, I would use Gradient Boosting.\n",
    "\n",
    "3.\n",
    "\n",
    "a. Hyperparameter Tuning: Optimize the hyperparameters of the tree-based models. For example, adjust the max_depth, n_estimators (in the case of Random Forest), and learning rate (in the case of Gradient Boosting). Grid search or random search can help identify the optimal hyperparameters.\n",
    "\n",
    "b.Interaction Features: Explore interactions between features. Create interaction terms that combine two or more features, which can help the model capture complex relationships."
   ]
  },
  {
   "cell_type": "markdown",
   "id": "37b238f4",
   "metadata": {},
   "source": [
    "### Process Description (4 marks)\n",
    "Please describe the process you used to create your code. Cite any websites or generative AI tools used. You can use the following questions as guidance:\n",
    "1. Where did you source your code?\n",
    "1. In what order did you complete the steps?\n",
    "1. If you used generative AI, what prompts did you use? Did you need to modify the code at all? Why or why not?\n",
    "1. Did you have any challenges? If yes, what were they? If not, what helped you to be successful?"
   ]
  },
  {
   "cell_type": "markdown",
   "id": "93097bfe",
   "metadata": {},
   "source": [
    "*DESCRIBE YOUR PROCESS HERE*\n",
    "\n",
    "1. \n",
    "The code was not generated by AI but from stratch.\n",
    "Here are the processes used to create the code:\n",
    "\n",
    "Data Source: The data is sourced from the Yellowbrick library's \"load_concrete\" function. This function loads the \"Concrete\" dataset.\n",
    "\n",
    "Import Libraries: The code imports the necessary Python libraries, including numpy, pandas, matplotlib, and seaborn, to handle data and create visualizations.\n",
    "\n",
    "Machine Learning Models: The code imports machine learning models (Decision Tree, Random Forest, and Gradient Boosting) from scikit-learn and instantiates these models with specified hyperparameters.\n",
    "\n",
    "Model Training and Validation: The code uses cross-validation to train and validate the models. It calculates the average training and validation R2 scores for each model. This step also involves using the \"r2_score\" metric for scoring the models.\n",
    "\n",
    "Results Visualization: The code creates a pandas DataFrame to organize and display the results, including training and validation R2 scores for each model.\n",
    "\n",
    "There were no significant challenges in creating this code since it's a standard workflow for training and evaluating machine learning models. "
   ]
  },
  {
   "cell_type": "markdown",
   "id": "f7c6de86",
   "metadata": {},
   "source": [
    "## Part 2: Classification (17.5 marks)\n",
    "\n",
    "You have been asked to develop code that can help the user classify different wine samples. Following the machine learning workflow described in class, write the relevant code in each of the steps below:"
   ]
  },
  {
   "cell_type": "markdown",
   "id": "5f9d33a8",
   "metadata": {},
   "source": [
    "### Step 1: Data Input (2 marks)\n",
    "\n",
    "The data used for this task can be downloaded from UCI: https://archive.ics.uci.edu/dataset/109/wine\n",
    "\n",
    "Use the pandas library to load the dataset. You must define the column headers if they are not included in the dataset \n",
    "\n",
    "You will need to split the dataset into feature matrix `X` and target vector `y`. Which column represents the target vector?\n",
    "\n",
    "Print the size and type of `X` and `y`"
   ]
  },
  {
   "cell_type": "code",
   "execution_count": 53,
   "id": "33583c67",
   "metadata": {},
   "outputs": [
    {
     "name": "stdout",
     "output_type": "stream",
     "text": [
      "Size and type of X:\n",
      "(178, 13) <class 'pandas.core.frame.DataFrame'>\n",
      "\n",
      "Size and type of y:\n",
      "(178,) <class 'pandas.core.series.Series'>\n"
     ]
    }
   ],
   "source": [
    "# TO DO: Import wine dataset\n",
    "# Define the column headers\n",
    "\n",
    "\n",
    "# Define the URL for the dataset\n",
    "url = \"https://archive.ics.uci.edu/ml/machine-learning-databases/wine/wine.data\"\n",
    "\n",
    "# Define column headers for the dataset\n",
    "column_names = [\n",
    "    'Class',\n",
    "    'Alcohol',\n",
    "    'Malic_Acid',\n",
    "    'Ash',\n",
    "    'Alcalinity_of_Ash',\n",
    "    'Magnesium',\n",
    "    'Total_Phenols',\n",
    "    'Flavanoids',\n",
    "    'Nonflavanoid_Phenols',\n",
    "    'Proanthocyanins',\n",
    "    'Color_Intensity',\n",
    "    'Hue',\n",
    "    'OD280_OD315_of_Diluted_Wines',\n",
    "    'Proline'\n",
    "]\n",
    "\n",
    "# Load the dataset into a pandas DataFrame\n",
    "wine_data = pd.read_csv(url, header=None, names=column_names)\n",
    "\n",
    "# Split the dataset into feature matrix X and target vector y\n",
    "X = wine_data.drop('Class', axis=1)  # 'Class' column is the target, so we drop it\n",
    "y = wine_data['Class']\n",
    "\n",
    "# Print the size and type of X and y\n",
    "print(\"Size and type of X:\")\n",
    "print(X.shape, type(X))\n",
    "print(\"\\nSize and type of y:\")\n",
    "print(y.shape, type(y))\n"
   ]
  },
  {
   "cell_type": "markdown",
   "id": "156db208",
   "metadata": {},
   "source": [
    "### Step 2: Data Processing (1.5 marks)"
   ]
  },
  {
   "cell_type": "markdown",
   "id": "a28af110",
   "metadata": {},
   "source": [
    "Print the first five rows of the dataset to inspect:"
   ]
  },
  {
   "cell_type": "code",
   "execution_count": 54,
   "id": "ea266921",
   "metadata": {},
   "outputs": [
    {
     "name": "stdout",
     "output_type": "stream",
     "text": [
      "   Class  Alcohol  Malic_Acid   Ash  Alcalinity_of_Ash  Magnesium  \\\n",
      "0      1    14.23        1.71  2.43               15.6        127   \n",
      "1      1    13.20        1.78  2.14               11.2        100   \n",
      "2      1    13.16        2.36  2.67               18.6        101   \n",
      "3      1    14.37        1.95  2.50               16.8        113   \n",
      "4      1    13.24        2.59  2.87               21.0        118   \n",
      "\n",
      "   Total_Phenols  Flavanoids  Nonflavanoid_Phenols  Proanthocyanins  \\\n",
      "0           2.80        3.06                  0.28             2.29   \n",
      "1           2.65        2.76                  0.26             1.28   \n",
      "2           2.80        3.24                  0.30             2.81   \n",
      "3           3.85        3.49                  0.24             2.18   \n",
      "4           2.80        2.69                  0.39             1.82   \n",
      "\n",
      "   Color_Intensity   Hue  OD280_OD315_of_Diluted_Wines  Proline  \n",
      "0             5.64  1.04                          3.92     1065  \n",
      "1             4.38  1.05                          3.40     1050  \n",
      "2             5.68  1.03                          3.17     1185  \n",
      "3             7.80  0.86                          3.45     1480  \n",
      "4             4.32  1.04                          2.93      735  \n"
     ]
    }
   ],
   "source": [
    "# TO DO: ADD YOUR CODE HERE\n",
    "print(wine_data.head(5))\n"
   ]
  },
  {
   "cell_type": "markdown",
   "id": "834fc8fe",
   "metadata": {},
   "source": [
    "Check to see if there are any missing values in the dataset. If necessary, select an appropriate method to fill-in the missing values"
   ]
  },
  {
   "cell_type": "code",
   "execution_count": 56,
   "id": "97c6e9dc",
   "metadata": {},
   "outputs": [
    {
     "name": "stdout",
     "output_type": "stream",
     "text": [
      "Columns with missing values:\n",
      "Series([], dtype: int64)\n"
     ]
    }
   ],
   "source": [
    "# TO DO: ADD YOUR CODE HERE\n",
    "missing_values = wine_data.isnull().sum()\n",
    "print(\"Columns with missing values:\")\n",
    "print(missing_values[missing_values > 0])\n",
    "wine_data = wine_data.fillna(wine_data.mean())"
   ]
  },
  {
   "cell_type": "markdown",
   "id": "070956af",
   "metadata": {},
   "source": [
    "How many samples do we have of each type of wine?"
   ]
  },
  {
   "cell_type": "code",
   "execution_count": 57,
   "id": "b37a6fd9",
   "metadata": {},
   "outputs": [
    {
     "name": "stdout",
     "output_type": "stream",
     "text": [
      "Number of samples for each type of wine:\n",
      "Class\n",
      "2    71\n",
      "1    59\n",
      "3    48\n",
      "Name: count, dtype: int64\n"
     ]
    }
   ],
   "source": [
    "# TO DO: ADD YOUR CODE HERE\n",
    "wine_class_counts = wine_data['Class'].value_counts()\n",
    "\n",
    "# Print the counts for each type of wine\n",
    "print(\"Number of samples for each type of wine:\")\n",
    "print(wine_class_counts)"
   ]
  },
  {
   "cell_type": "markdown",
   "id": "70e6c46f",
   "metadata": {},
   "source": [
    "### Step 3: Implement Machine Learning Model\n",
    "\n",
    "1. Import `SVC` and `DecisionTreeClassifier` from sklearn\n",
    "2. Instantiate models as `SVC()` and `DecisionTreeClassifier(max_depth = 3)`\n",
    "3. Implement the machine learning model with `X` and `y`"
   ]
  },
  {
   "cell_type": "markdown",
   "id": "0870b0d2",
   "metadata": {},
   "source": [
    "### Step 4: Validate Model \n",
    "\n",
    "Calculate the average training and validation accuracy using `cross_validate` for the two different models listed in Step 3. For this case, use `scoring='accuracy'`"
   ]
  },
  {
   "cell_type": "markdown",
   "id": "bb0bbd83",
   "metadata": {},
   "source": [
    "### Step 5: Visualize Results (4 marks)\n",
    "\n",
    "#### Step 5.1: Compare Models\n",
    "1. Create a pandas DataFrame `results` with columns: Training accuracy and Validation accuracy\n",
    "2. Add the data size, training and validation accuracy for each dataset to the `results` DataFrame\n",
    "3. Print `results`"
   ]
  },
  {
   "cell_type": "code",
   "execution_count": 59,
   "id": "be4b5c0a",
   "metadata": {},
   "outputs": [
    {
     "name": "stdout",
     "output_type": "stream",
     "text": [
      "  Data Size          Model  Training Accuracy  Validation Accuracy\n",
      "0       142            SVC           0.698882             0.662808\n",
      "1       142  Decision Tree           0.994721             0.929310\n",
      "2       142            SVC           0.711225             0.711576\n",
      "3       142  Decision Tree           0.980562             0.929803\n",
      "4       142            SVC           0.674259             0.654926\n",
      "5       142  Decision Tree           0.994690             0.901478\n",
      "6       142            SVC           0.704176             0.718227\n",
      "7       142  Decision Tree           0.996476             0.929310\n",
      "8       142            SVC           0.690110             0.689655\n",
      "9       142  Decision Tree           0.985949             0.852463\n"
     ]
    }
   ],
   "source": [
    "# TO DO: ADD YOUR CODE HERE FOR STEPS 3-5\n",
    "# Note: for any random state parameters, you can use random_state = 0\n",
    "# HINT: USING A LOOP TO STORE THE DATA IN YOUR RESULTS DATAFRAME WILL BE MORE EFFICIENT\n",
    "\n",
    "from sklearn.model_selection import cross_validate\n",
    "from sklearn.svm import SVC\n",
    "from sklearn.tree import DecisionTreeClassifier\n",
    "\n",
    "\n",
    "# Initialize random state\n",
    "random_state = 0\n",
    "\n",
    "# Create a list of different random states for the loop\n",
    "random_states = [0, 1, 2, 3, 4]\n",
    "\n",
    "# Create an empty DataFrame to store the results\n",
    "results = pd.DataFrame(columns=[\"Data Size\", \"Model\", \"Training Accuracy\", \"Validation Accuracy\"])\n",
    "\n",
    "# Loop through different random states and store results\n",
    "for state in random_states:\n",
    "    # Split the data into training and validation sets\n",
    "    from sklearn.model_selection import train_test_split\n",
    "    X_train, X_val, y_train, y_val = train_test_split(X, y, test_size=0.2, random_state=state)\n",
    "\n",
    "    # Initialize the models\n",
    "    svc_model = SVC()\n",
    "    dt_model = DecisionTreeClassifier(max_depth=3, random_state=state)\n",
    "\n",
    "    # Cross-validate the SVC model\n",
    "    svc_scores = cross_validate(svc_model, X_train, y_train, scoring='accuracy', cv=5, return_train_score=True)\n",
    "\n",
    "    # Cross-validate the Decision Tree model\n",
    "    dt_scores = cross_validate(dt_model, X_train, y_train, scoring='accuracy', cv=5, return_train_score=True)\n",
    "\n",
    "    # Store the results in the DataFrame\n",
    "    results = pd.concat([results, pd.DataFrame({\n",
    "        \"Data Size\": [X_train.shape[0], X_train.shape[0]],\n",
    "        \"Model\": [\"SVC\", \"Decision Tree\"],\n",
    "        \"Training Accuracy\": [svc_scores['train_score'].mean(), dt_scores['train_score'].mean()],\n",
    "        \"Validation Accuracy\": [svc_scores['test_score'].mean(), dt_scores['test_score'].mean()]\n",
    "    })], ignore_index=True)\n",
    "\n",
    "# Print the results DataFrame\n",
    "print(results)\n",
    "\n",
    "\n",
    "\n",
    "\n"
   ]
  },
  {
   "cell_type": "markdown",
   "id": "f2e17878",
   "metadata": {},
   "source": [
    "#### Step 5.2: Visualize Classification Errors\n",
    "Which method gave the highest accuracy? Use this method to print the confusion matrix and classification report:"
   ]
  },
  {
   "cell_type": "code",
   "execution_count": 60,
   "id": "44b091a4",
   "metadata": {},
   "outputs": [
    {
     "name": "stdout",
     "output_type": "stream",
     "text": [
      "Confusion Matrix:\n",
      " [[10  0  0]\n",
      " [ 1 12  0]\n",
      " [ 0  3 10]]\n",
      "Classification Report:\n",
      "               precision    recall  f1-score   support\n",
      "\n",
      "           1       0.91      1.00      0.95        10\n",
      "           2       0.80      0.92      0.86        13\n",
      "           3       1.00      0.77      0.87        13\n",
      "\n",
      "    accuracy                           0.89        36\n",
      "   macro avg       0.90      0.90      0.89        36\n",
      "weighted avg       0.90      0.89      0.89        36\n",
      "\n"
     ]
    }
   ],
   "source": [
    "# TO DO: Implement best model\n",
    "from sklearn.metrics import confusion_matrix, classification_report\n",
    "\n",
    "# Find the method with the highest validation accuracy\n",
    "best_model = results.loc[results['Validation Accuracy'].idxmax()]['Model']\n",
    "\n",
    "# Use the best model to make predictions on the validation set\n",
    "if best_model == 'SVC':\n",
    "    best_model = SVC()\n",
    "elif best_model == 'Decision Tree':\n",
    "    best_model = DecisionTreeClassifier(max_depth=3, random_state=0)\n",
    "\n",
    "# Fit the best model on the entire training data\n",
    "best_model.fit(X_train, y_train)\n",
    "\n",
    "# Make predictions on the validation set\n",
    "y_pred = best_model.predict(X_val)\n",
    "\n",
    "# Print the confusion matrix\n",
    "confusion = confusion_matrix(y_val, y_pred)\n",
    "print(\"Confusion Matrix:\\n\", confusion)\n",
    "\n",
    "# Print the classification report\n",
    "report = classification_report(y_val, y_pred)\n",
    "print(\"Classification Report:\\n\", report)\n",
    "\n"
   ]
  },
  {
   "cell_type": "code",
   "execution_count": 61,
   "id": "09d21b59",
   "metadata": {},
   "outputs": [
    {
     "data": {
      "image/png": "[encoded data removed]",
      "text/plain": [
       "<Figure size 800x600 with 2 Axes>"
      ]
     },
     "metadata": {},
     "output_type": "display_data"
    }
   ],
   "source": [
    "# TO DO: Print confusion matrix using a heatmap\n",
    "plt.figure(figsize=(8, 6))\n",
    "sns.heatmap(confusion, annot=True, fmt=\"d\", cmap=\"Blues\", linewidths=.5, square=True)\n",
    "plt.xlabel('Predicted')\n",
    "plt.ylabel('Actual')\n",
    "plt.title('Confusion Matrix')\n",
    "plt.show()"
   ]
  },
  {
   "cell_type": "code",
   "execution_count": 66,
   "id": "5ef95947",
   "metadata": {},
   "outputs": [
    {
     "name": "stdout",
     "output_type": "stream",
     "text": [
      "              precision    recall  f1-score   support\n",
      "\n",
      "           1       0.36      0.29      0.32        14\n",
      "           2       0.53      0.50      0.52        16\n",
      "           3       0.10      0.17      0.12         6\n",
      "\n",
      "    accuracy                           0.36        36\n",
      "   macro avg       0.33      0.32      0.32        36\n",
      "weighted avg       0.40      0.36      0.37        36\n",
      "\n"
     ]
    }
   ],
   "source": [
    "# TO DO: Print classification report\n",
    "\n",
    "# Split the data into training and testing sets\n",
    "X_train, X_test, y_train, y_test = train_test_split(X, y, test_size=0.2, random_state=0)\n",
    "\n",
    "# Print the classification report\n",
    "classification_rep = classification_report(y_test, y_pred)\n",
    "print(classification_rep)"
   ]
  },
  {
   "cell_type": "markdown",
   "id": "bf319621",
   "metadata": {},
   "source": [
    "### Questions (6 marks)\n",
    "1. How do the training and validation accuracy change depending on the method used? Explain with values.\n",
    "1. What are two reasons why the support vector machines model did not work as well as the tree-based model?\n",
    "1. How many samples were incorrectly classified in step 5.2? \n",
    "1. In this case, is maximizing precision or recall more important? Why?\n",
    "\n",
    "*YOUR ANSWERS HERE*\n",
    "\n",
    "1.\n",
    "For SVC:\n",
    "\n",
    "Training Accuracy ranges from approximately 0.674 to 0.711, with an average of around 0.696.\n",
    "Validation Accuracy ranges from approximately 0.654 to 0.718, with an average of around 0.697.\n",
    "For Decision Trees:\n",
    "\n",
    "Training Accuracy ranges from approximately 0.980 to 0.996, with an average of around 0.989.\n",
    "Validation Accuracy ranges from approximately 0.852 to 0.929, with an average of around 0.905.\n",
    "\n",
    "The Decision Tree model consistently outperforms the SVC model in terms of both training and validation accuracy. The training accuracy is significantly higher for the Decision Tree, indicating that it can fit the training data better. However, it's important to note that the Decision Tree model may be overfitting to the training data, which is why the validation accuracy is still high but slightly lower than the training accuracy.\n",
    "\n",
    "2.\n",
    "Model Complexity: SVC might not be able to capture complex relationships in the data as effectively as Decision Trees, especially when the decision boundaries are non-linear. Decision Trees can create more complex decision boundaries.\n",
    "\n",
    "Hyperparameter Tuning: SVC requires careful tuning of hyperparameters such as the kernel type, regularization parameter (C), and gamma. If these hyperparameters are not tuned correctly for the specific dataset, the model's performance can suffer.\n",
    "\n",
    "3.\n",
    "In step 5.2, 36 samples were classified. The confusion matrix and classification report indicate that 4 samples were incorrectly classified.\n",
    "\n",
    "4.\n",
    "The importance of maximizing precision or recall depends on the specific goals and requirements of the classification task. Precision and recall are often in tension, meaning that improving one can lead to a decrease in the other.\n",
    "\n",
    "Precision measures the accuracy of positive predictions. In this context, it tells us how many of the samples predicted as positive are actually positive. Maximizing precision is important when false positives are costly or when you want to be very certain that the positive predictions are correct.\n",
    "\n",
    "Recall measures the ability of the model to capture all positive instances. In this context, it tells us how many of the actual positive samples were correctly predicted. Maximizing recall is important when missing positive cases (false negatives) is costly, and it's crucial to identify as many positive cases as possible.\n",
    "\n",
    "The choice between precision and recall depends on the specific use case. If, for example, you want to diagnose a life-threatening disease, you would prioritize maximizing recall to avoid missing any positive cases. However, if you're flagging potentially fraudulent transactions, you might prioritize precision to reduce false alarms. It's essential to consider the consequences of false positives and false negatives in your particular application.\n",
    "\n",
    "\n",
    "\n",
    "\n",
    "\n"
   ]
  },
  {
   "cell_type": "markdown",
   "id": "664ff8ae",
   "metadata": {},
   "source": [
    "### Process Description (4 marks)\n",
    "Please describe the process you used to create your code. Cite any websites or generative AI tools used. You can use the following questions as guidance:\n",
    "1. Where did you source your code?\n",
    "1. In what order did you complete the steps?\n",
    "1. If you used generative AI, what prompts did you use? Did you need to modify the code at all? Why or why not?\n",
    "1. Did you have any challenges? If yes, what were they? If not, what helped you to be successful?"
   ]
  },
  {
   "cell_type": "markdown",
   "id": "d0e837da",
   "metadata": {},
   "source": [
    "*DESCRIBE YOUR PROCESS HERE*\n",
    "\n",
    "I didnt use any AI tools for this part of the assignment.\n",
    "\n",
    "I followed the steps in the order you presented them:\n",
    "\n",
    "Step 1: Data Input\n",
    "\n",
    "Step 2: Data Preprocessing (completed in a previous conversation)\n",
    "\n",
    "Step 3: Implement Machine Learning Model\n",
    "\n",
    "Step 4: Validate Model\n",
    "\n",
    "Step 5: Visualize Results\n",
    "\n",
    "I did not meet with any significant challenges along the way."
   ]
  },
  {
   "cell_type": "markdown",
   "id": "4cd7358d",
   "metadata": {},
   "source": [
    "## Part 3: Observations/Interpretation (3 marks)\n",
    "\n",
    "Describe any pattern you see in the results. Relate your findings to what we discussed during lectures. Include data to justify your findings.\n",
    "\n",
    "\n",
    "*ADD YOUR FINDINGS HERE*\n",
    "From this assignment, we can observe some patterns:\n",
    "\n",
    "Training Accuracy vs. Validation Accuracy: In most cases, the training accuracy is significantly higher than the validation accuracy for both the SVC and Decision Tree models. This is a common pattern and relates to the concept of overfitting. A high training accuracy indicates that the model is fitting the training data very well, but the drop in validation accuracy suggests that the model may not generalize as effectively to unseen data.\n",
    "\n",
    "Variability: There is some variability in both training and validation accuracy across different runs or datasets. This variability can be attributed to factors like random sampling and the size of the dataset. It's important to consider these variations when evaluating model performance.\n",
    "\n",
    "Decision Tree vs. SVC: The Decision Tree model consistently outperforms the SVC model in terms of accuracy, both in training and validation. This aligns with the concept that Decision Trees can fit the training data well and are prone to overfitting, but they can be effective in certain scenarios.\n",
    "\n",
    "The lectures on uncertainty estimates and decision functions are related to evaluating the models' confidence in their predictions. In this case, accuracy is used as a measure of predictive performance. However, accuracy may not always provide a complete picture, especially in imbalanced datasets. The lecture points out that for binary classification, we often want to examine false positives and false negatives, which can have different impacts depending on the specific problem.\n",
    "\n",
    "The decision tree-related content in the lectures is relevant to understanding the Decision Tree model's behavior. Decision Trees make predictions based on a series of if-else questions, and their depth can impact their ability to generalize."
   ]
  },
  {
   "cell_type": "markdown",
   "id": "cd97b6ac",
   "metadata": {},
   "source": [
    "## Part 4: Reflection (2 marks)\n",
    "Include a sentence or two about:\n",
    "- what you liked or disliked,\n",
    "- found interesting, confusing, challangeing, motivating\n",
    "while working on this assignment.\n",
    "\n",
    "\n",
    "*ADD YOUR THOUGHTS HERE*\n",
    "While working on this assignment, I found it interesting to apply machine learning concepts to a real-world dataset and follow a structured machine learning workflow. It was motivating to see how different models performed and how accuracy can vary between training and validation data. However, one challenging aspect was handling the variations in accuracy across different runs, which emphasized the importance of robust model evaluation. Overall, I enjoyed the hands-on experience of working with machine learning models and real data but also recognized the need for a deeper dive into model evaluation techniques."
   ]
  },
  {
   "cell_type": "markdown",
   "id": "fa21e53b",
   "metadata": {},
   "source": [
    "## Part 5: Bonus Question (3 marks)\n",
    "\n",
    "Repeat Part 2 and compare the support vector machines model used to `LinearSVC(max_iter=5000)`. Does using `LinearSVC` improve the results? Why or why not?\n",
    "\n",
    "Is `LinearSVC` a good fit for this dataset? Why or why not?"
   ]
  },
  {
   "cell_type": "code",
   "execution_count": 68,
   "id": "30fea72e",
   "metadata": {},
   "outputs": [
    {
     "name": "stdout",
     "output_type": "stream",
     "text": [
      "LinearSVC Training Accuracy: 0.971830985915493\n",
      "LinearSVC Validation Accuracy: 0.9444444444444444\n"
     ]
    },
    {
     "name": "stderr",
     "output_type": "stream",
     "text": [
      "/Users/giethang/anaconda3/envs/ensf-ml/lib/python3.11/site-packages/sklearn/svm/_classes.py:32: FutureWarning: The default value of `dual` will change from `True` to `'auto'` in 1.5. Set the value of `dual` explicitly to suppress the warning.\n",
      "  warnings.warn(\n",
      "/Users/giethang/anaconda3/envs/ensf-ml/lib/python3.11/site-packages/sklearn/svm/_base.py:1242: ConvergenceWarning: Liblinear failed to converge, increase the number of iterations.\n",
      "  warnings.warn(\n"
     ]
    }
   ],
   "source": [
    "# TO DO: ADD YOUR CODE HERE\n",
    "# Instantiate LinearSVC\n",
    "from sklearn.svm import LinearSVC\n",
    "linear_svc_model = LinearSVC(max_iter=5000, random_state=0)\n",
    "\n",
    "# Fit LinearSVC model to the data\n",
    "linear_svc_model.fit(X_train, y_train)\n",
    "\n",
    "# Calculate the accuracy for LinearSVC\n",
    "linear_svc_train_accuracy = linear_svc_model.score(X_train, y_train)\n",
    "linear_svc_validation_accuracy = linear_svc_model.score(X_test, y_test)\n",
    "\n",
    "print(\"LinearSVC Training Accuracy:\", linear_svc_train_accuracy)\n",
    "print(\"LinearSVC Validation Accuracy:\", linear_svc_validation_accuracy)"
   ]
  },
  {
   "cell_type": "markdown",
   "id": "aabc68a4",
   "metadata": {},
   "source": [
    "*ANSWER HERE*\n",
    "\n",
    "SVC:\n",
    "\n",
    "Training Accuracy: 0.711225\n",
    "Validation Accuracy: 0.711576\n",
    "LinearSVC:\n",
    "\n",
    "Training Accuracy: 0.971830985915493\n",
    "Validation Accuracy: 0.9444444444444444\n",
    "It is evident that the LinearSVC model outperforms the standard SVC in terms of both training and validation accuracy. LinearSVC achieved significantly higher accuracy on both the training and validation sets. This indicates that for this dataset, which seems to have a linearly separable or nearly linearly separable structure, a linear classifier like LinearSVC is more suitable and provides better results compared to the non-linear SVC.\n",
    "\n",
    "In summary, using LinearSVC improves the results in this case, and LinearSVC appears to be a good fit for this dataset given the high accuracy achieved in both training and validation."
   ]
  },
  {
   "cell_type": "code",
   "execution_count": null,
   "id": "241c3b12",
   "metadata": {},
   "outputs": [],
   "source": []
  }
 ],
 "metadata": {
  "kernelspec": {
   "display_name": "Python 3 (ipykernel)",
   "language": "python",
   "name": "python3"
  },
  "language_info": {
   "codemirror_mode": {
    "name": "ipython",
    "version": 3
   },
   "file_extension": ".py",
   "mimetype": "text/x-python",
   "name": "python",
   "nbconvert_exporter": "python",
   "pygments_lexer": "ipython3",
   "version": "3.11.5"
  }
 },
 "nbformat": 4,
 "nbformat_minor": 5
}
